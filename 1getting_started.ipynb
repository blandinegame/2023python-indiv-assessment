{
  "nbformat": 4,
  "nbformat_minor": 0,
  "metadata": {
    "colab": {
      "provenance": []
    },
    "kernelspec": {
      "name": "python3",
      "display_name": "Python 3"
    },
    "language_info": {
      "name": "python"
    }
  },
  "cells": [
    {
      "cell_type": "code",
      "execution_count": null,
      "metadata": {
        "id": "F20KqK7rhJjg"
      },
      "outputs": [],
      "source": [
        "# 1. Syntax\n",
        "\n",
        "# 1.1 Insert the missing indentation to make the code correct:\n",
        "# HINT: https://www.w3schools.com/python/python_syntax.asp\n",
        "\n",
        "# TODO: update the code below\n",
        "if 4 ==2 :\n",
        "  print(\"Four is equal to two!\")"
      ]
    },
    {
      "cell_type": "code",
      "source": [
        "# 1.2 Variables\n",
        "# HINT: https://www.w3schools.com/python/python_variables.asp\n",
        "\n",
        "#1.2.1 Create a variable named fruit and assign the value Apple to it.\n",
        "# TODO: Write your code below\n",
        "fruit=\"Apple\""
      ],
      "metadata": {
        "id": "l1MAB4gThUGo"
      },
      "execution_count": null,
      "outputs": []
    },
    {
      "cell_type": "code",
      "source": [
        "# 1.2.2 Create a variable called z, assign x + y to it, and display the result.\n",
        "\n",
        "x = 10\n",
        "y= 20\n",
        "\n",
        "# TODO: Wrtie your code below\n",
        "z=x+y\n",
        "print(z)"
      ],
      "metadata": {
        "id": "zxiE0_S6hY_4",
        "colab": {
          "base_uri": "https://localhost:8080/"
        },
        "outputId": "4d60f96e-8417-45df-e76b-a3c8701f3acc"
      },
      "execution_count": null,
      "outputs": [
        {
          "output_type": "stream",
          "name": "stdout",
          "text": [
            "30\n"
          ]
        }
      ]
    },
    {
      "cell_type": "code",
      "source": [
        "# 1.2.3 Remove the illegal characters in the variable name:\n",
        "\n",
        "# TODO: Update the code below\n",
        "cityname = \"London\""
      ],
      "metadata": {
        "id": "DCEtlXDzhbnA"
      },
      "execution_count": null,
      "outputs": []
    },
    {
      "cell_type": "code",
      "source": [
        "# 1.2.4 Insert the correct keyword to make the variable x belong to the global scope.\n",
        "# HINT: https://www.w3schools.com/python/python_variables_global.asp\n",
        "\n",
        "# TODO: Update the code below\n",
        "def myfunc():\n",
        "  global x\n",
        "  x = \"fantastic\""
      ],
      "metadata": {
        "id": "qXBTrkDFhgqY"
      },
      "execution_count": null,
      "outputs": []
    },
    {
      "cell_type": "code",
      "source": [
        "# 1.2.5 write a program that switches the values stored in variables a and b.\n",
        "\n",
        "a = 5\n",
        "b = 4\n",
        "\n",
        "# TODO: Write your code below\n",
        "\n",
        "\n",
        "\n",
        "print('a : ',b)\n",
        "print('b : ',a)\n"
      ],
      "metadata": {
        "id": "wrwa-VJVhjSO",
        "colab": {
          "base_uri": "https://localhost:8080/"
        },
        "outputId": "b7e7fd10-13a9-4661-eda7-d2eb1647e309"
      },
      "execution_count": null,
      "outputs": [
        {
          "output_type": "stream",
          "name": "stdout",
          "text": [
            "a :  4\n",
            "b :  5\n"
          ]
        }
      ]
    },
    {
      "cell_type": "code",
      "source": [
        "# 1.3. Data Types\n",
        "# casting, numbers, booleans\n",
        "# HINT: https://www.w3schools.com/python/python_datatypes.asp\n",
        "\n",
        "# 1.3.1 Write a program that add the digits in a two digit number input.\n",
        "# eg. if the input is 45. The the output should be 4+5=9\n",
        "\n",
        "number= input()\n",
        "\n",
        "# TODO: Wrtie your code below\n",
        "x=int(number[0])\n",
        "y=int(number[1])\n",
        "\n",
        "print(x+y)"
      ],
      "metadata": {
        "id": "EjS73IsShof4",
        "colab": {
          "base_uri": "https://localhost:8080/"
        },
        "outputId": "f72460f2-8c73-4dab-a6b7-778c86a538c5"
      },
      "execution_count": null,
      "outputs": [
        {
          "output_type": "stream",
          "name": "stdout",
          "text": [
            "45\n",
            "9\n"
          ]
        }
      ]
    }
  ]
}