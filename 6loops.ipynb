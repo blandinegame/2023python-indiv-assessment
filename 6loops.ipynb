{
  "nbformat": 4,
  "nbformat_minor": 0,
  "metadata": {
    "colab": {
      "provenance": []
    },
    "kernelspec": {
      "name": "python3",
      "display_name": "Python 3"
    },
    "language_info": {
      "name": "python"
    }
  },
  "cells": [
    {
      "cell_type": "code",
      "execution_count": null,
      "metadata": {
        "id": "zkQrIXHFUufO"
      },
      "outputs": [],
      "source": [
        "# 6loops.py\n",
        "\n",
        "# 6.1 For Loops\n",
        "\n",
        "fruits = [\"kiwi\", \"banana\", \"cherry\"]\n"
      ]
    },
    {
      "cell_type": "code",
      "source": [
        "# 6.1.1 Use a for loop to loop through the items in the fruits list and print each item.\n",
        "# TODO: Write your code below\n",
        "for x in fruits:\n",
        "  print(x)"
      ],
      "metadata": {
        "id": "WW04UzHmU0no",
        "colab": {
          "base_uri": "https://localhost:8080/"
        },
        "outputId": "56930c8e-b390-457e-aca4-34d8487c251a"
      },
      "execution_count": null,
      "outputs": [
        {
          "output_type": "stream",
          "name": "stdout",
          "text": [
            "kiwi\n",
            "banana\n",
            "cherry\n"
          ]
        }
      ]
    },
    {
      "cell_type": "code",
      "source": [
        "# 6.1.2 In the for loop to loop through the items in the fruits list,  when the item value is \"banana\", jump directly to the next item.\n",
        "# TODO: Write your code below\n",
        "for x in fruits:\n",
        "  if x == 'banana':\n",
        "    continue\n",
        "  print(x)"
      ],
      "metadata": {
        "id": "YxPES2a-U2M9",
        "colab": {
          "base_uri": "https://localhost:8080/"
        },
        "outputId": "6a7a3e4e-267d-4f1c-df22-b3c8f43e3b7e"
      },
      "execution_count": null,
      "outputs": [
        {
          "output_type": "stream",
          "name": "stdout",
          "text": [
            "kiwi\n",
            "cherry\n"
          ]
        }
      ]
    },
    {
      "cell_type": "code",
      "source": [
        "# 6.1.3 In the for loop to loop through the items in the fruits list, exit the loop when the item is \"banana\".\n",
        "# TODO: Write your code below\n",
        "for x in fruits:\n",
        "  if x == 'banana':\n",
        "    break\n",
        "  print(x)"
      ],
      "metadata": {
        "id": "idVh4nRhU374",
        "colab": {
          "base_uri": "https://localhost:8080/"
        },
        "outputId": "ea1fbb26-5870-497f-afde-baedf304e38f"
      },
      "execution_count": null,
      "outputs": [
        {
          "output_type": "stream",
          "name": "stdout",
          "text": [
            "kiwi\n"
          ]
        }
      ]
    },
    {
      "cell_type": "code",
      "source": [
        "# 6.1.4 Using the Python range() function, create a sequence of numbers from 0 to 5, and print each item in the sequence in a new line:\n",
        "# HINT: https://www.w3schools.com/python/ref_func_range.asp\n",
        "# TODO: Write your code below\n",
        "x = range(6)\n",
        "for n in x:\n",
        "  print(n)"
      ],
      "metadata": {
        "id": "gNZjUgRoU5ov",
        "colab": {
          "base_uri": "https://localhost:8080/"
        },
        "outputId": "f819c3ef-446d-49e8-b78c-ded1b3cf1f6f"
      },
      "execution_count": null,
      "outputs": [
        {
          "output_type": "stream",
          "name": "stdout",
          "text": [
            "0\n",
            "1\n",
            "2\n",
            "3\n",
            "4\n",
            "5\n"
          ]
        }
      ]
    }
  ]
}