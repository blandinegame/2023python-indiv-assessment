{
  "nbformat": 4,
  "nbformat_minor": 0,
  "metadata": {
    "colab": {
      "provenance": []
    },
    "kernelspec": {
      "name": "python3",
      "display_name": "Python 3"
    },
    "language_info": {
      "name": "python"
    }
  },
  "cells": [
    {
      "cell_type": "code",
      "execution_count": null,
      "metadata": {
        "id": "i98wuh7oU96l"
      },
      "outputs": [],
      "source": [
        "# 7.1 Functions\n",
        "\n",
        "# 7.1.1 Create a function named function1 that prints this string \"Hello World\"\n",
        "# TODO: Write your code below\n",
        "def function1():\n",
        "  print(\"Hello World\")\n"
      ]
    },
    {
      "cell_type": "code",
      "source": [
        "# 7.1.2 Execute the functon function1\n",
        "# TODO: Write your code below\n",
        "function1()"
      ],
      "metadata": {
        "id": "E9pXLTOiVFP2",
        "colab": {
          "base_uri": "https://localhost:8080/"
        },
        "outputId": "18fddf1d-c043-49cf-f59b-4088215a7b97"
      },
      "execution_count": null,
      "outputs": [
        {
          "output_type": "stream",
          "name": "stdout",
          "text": [
            "Hello World\n"
          ]
        }
      ]
    },
    {
      "cell_type": "code",
      "source": [
        "# 7.1.3 Create a function named function2 that takes in one integer parameter number1. The function adds 5 to the input number1, and prints the result\n",
        "# TODO: Write your code below\n",
        "def function2(number1):\n",
        "  result = number1+5\n",
        "  print(result)\n",
        "function2(5)\n"
      ],
      "metadata": {
        "id": "ZUSx23I8VHin",
        "colab": {
          "base_uri": "https://localhost:8080/"
        },
        "outputId": "73e30699-f65c-4acb-fb11-3744a3db545a"
      },
      "execution_count": null,
      "outputs": [
        {
          "output_type": "stream",
          "name": "stdout",
          "text": [
            "10\n"
          ]
        }
      ]
    },
    {
      "cell_type": "code",
      "source": [
        "# 7.1.4 Create a function named compare_numbers() with two arguments. If the first argument is greater than the second, print \"first number is greater\".\n",
        "# If the second number is greater than the first, print \"first number is smaller\". Is the numbers are equal, print \"equal numbers\"\n",
        "# TODO: Write your code below\n",
        "def compare_numbers(number2, number3):\n",
        "  if number2 > number3:\n",
        "    print(\"first number is greater\")\n",
        "  if number2<number3:\n",
        "    print(\"first number is smaller\")\n",
        "  else:\n",
        "    print(\"equal numbers\")\n",
        "\n"
      ],
      "metadata": {
        "id": "-t8KNVQzVJ05"
      },
      "execution_count": null,
      "outputs": []
    },
    {
      "cell_type": "code",
      "source": [
        "# 7.2 Create a lambda function that takes one parameter (a) and returns it.\n",
        "# TODO: Write your code below\n",
        "lambda_function = lambda a: a\n",
        "print(lambda_function(5))"
      ],
      "metadata": {
        "id": "X1EOhNwqVN7Z",
        "colab": {
          "base_uri": "https://localhost:8080/"
        },
        "outputId": "f8a70fd7-34b3-441d-8400-e1e1380847e9"
      },
      "execution_count": null,
      "outputs": [
        {
          "output_type": "stream",
          "name": "stdout",
          "text": [
            "5\n"
          ]
        }
      ]
    },
    {
      "cell_type": "code",
      "source": [
        "### 7.3 Python built-in functions : https://www.w3schools.com/python/python_ref_functions.asp\n",
        "\n",
        "nums = [11,33,14,2,58,65,34]\n"
      ],
      "metadata": {
        "id": "qA2sFv6FVQ_x"
      },
      "execution_count": null,
      "outputs": []
    },
    {
      "cell_type": "code",
      "source": [
        "# 7.3.1 Using Python's built in sum() function, print the sum of the numbers in the list nums\n",
        "# TODO: Write your code below\n",
        "sum(nums)"
      ],
      "metadata": {
        "id": "IeG-jyWsVU11",
        "colab": {
          "base_uri": "https://localhost:8080/"
        },
        "outputId": "28ac89b8-1558-4088-d68b-77075a8e64d8"
      },
      "execution_count": null,
      "outputs": [
        {
          "output_type": "execute_result",
          "data": {
            "text/plain": [
              "217"
            ]
          },
          "metadata": {},
          "execution_count": 13
        }
      ]
    },
    {
      "cell_type": "code",
      "source": [
        "# 7.3.2 Using Python's built in min() function, print the minimum of the numbers in the list nums\n",
        "# TODO: Write your code below\n",
        "min(nums)"
      ],
      "metadata": {
        "id": "cHUjUC_qVaGA",
        "colab": {
          "base_uri": "https://localhost:8080/"
        },
        "outputId": "b6af6f6b-55f2-458c-9959-65b809664a05"
      },
      "execution_count": null,
      "outputs": [
        {
          "output_type": "execute_result",
          "data": {
            "text/plain": [
              "2"
            ]
          },
          "metadata": {},
          "execution_count": 14
        }
      ]
    },
    {
      "cell_type": "code",
      "source": [
        "# 7.3.3 Using Python's built in abs() function, print the absolute value of -6.\n",
        "# TODO: Write your code below\n",
        "abs(-6)"
      ],
      "metadata": {
        "id": "LdoL9hQeVgV-",
        "colab": {
          "base_uri": "https://localhost:8080/"
        },
        "outputId": "e531078c-55b3-41c3-fbb2-79b2c8a77f26"
      },
      "execution_count": null,
      "outputs": [
        {
          "output_type": "execute_result",
          "data": {
            "text/plain": [
              "6"
            ]
          },
          "metadata": {},
          "execution_count": 15
        }
      ]
    },
    {
      "cell_type": "code",
      "source": [
        "# 7.3.4 Using Python's built in round() function, round the number 4.67888 to two decomal places.\n",
        "# TODO: Write your code below\n",
        "round(4.67888, 2)"
      ],
      "metadata": {
        "id": "yrMju104ViwQ",
        "colab": {
          "base_uri": "https://localhost:8080/"
        },
        "outputId": "f2bdc6e1-029a-4f7f-f509-03049d9e479d"
      },
      "execution_count": null,
      "outputs": [
        {
          "output_type": "execute_result",
          "data": {
            "text/plain": [
              "4.68"
            ]
          },
          "metadata": {},
          "execution_count": 16
        }
      ]
    },
    {
      "cell_type": "code",
      "source": [
        "# 7.4 Python Modules\n",
        "# HINT: https://www.w3schools.com/python/python_modules.asp\n",
        "# HINT: https://realpython.com/python-modules-packages/\n",
        "# HINT: https://docs.python.org/3/tutorial/modules.html"
      ],
      "metadata": {
        "id": "YVAFg3qwVn5M"
      },
      "execution_count": null,
      "outputs": []
    },
    {
      "cell_type": "code",
      "source": [
        "# 7.4.1 Create a python module mod.\n",
        "# In mod.py, create a function psum(number1, number2) that takes two arguments and prints the sum of them. Assume the input arguments to be numbers.\n",
        "# In mod.py, create a function pmultiply(number1, number2) that takes two arguments and prints the product of them. Assume the input arguments to be numbers.\n",
        "def psum(number1, number2)\n"
      ],
      "metadata": {
        "id": "Im_g-NAUVtYZ"
      },
      "execution_count": null,
      "outputs": []
    },
    {
      "cell_type": "code",
      "source": [
        "# 7.4.2 Create python file main.py and import the module mod.\n",
        "# In main.py run the psum() and pmultiply() functions from the module mod using any two numbers.\n"
      ],
      "metadata": {
        "id": "TjUYTbZbV4-Y"
      },
      "execution_count": null,
      "outputs": []
    },
    {
      "cell_type": "code",
      "source": [
        "# 7.4.3 In main.py, also import Python's built in module platform. Then list the functions and variables in the platform module using the dir() function.\n"
      ],
      "metadata": {
        "id": "MKdlmRTCV7IG"
      },
      "execution_count": null,
      "outputs": []
    }
  ]
}