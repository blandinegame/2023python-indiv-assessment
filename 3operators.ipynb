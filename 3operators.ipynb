{
  "nbformat": 4,
  "nbformat_minor": 0,
  "metadata": {
    "colab": {
      "provenance": []
    },
    "kernelspec": {
      "name": "python3",
      "display_name": "Python 3"
    },
    "language_info": {
      "name": "python"
    }
  },
  "cells": [
    {
      "cell_type": "code",
      "execution_count": null,
      "metadata": {
        "id": "50mlwT8NOsYn"
      },
      "outputs": [],
      "source": [
        "#3operators.py\n",
        "\n",
        "# 3.1 Operators"
      ]
    },
    {
      "cell_type": "code",
      "source": [
        "# 3.1.1 Multiply 4 with 8, and print the result.\n",
        "# TODO: Write your code below\n",
        "print(4*8)"
      ],
      "metadata": {
        "colab": {
          "base_uri": "https://localhost:8080/"
        },
        "id": "7xVLjKp5Ozbq",
        "outputId": "99998df0-f462-49bb-f326-f43c52d798ce"
      },
      "execution_count": null,
      "outputs": [
        {
          "output_type": "stream",
          "name": "stdout",
          "text": [
            "32\n"
          ]
        }
      ]
    },
    {
      "cell_type": "code",
      "source": [
        "# 3.1.2 Divide 30 by 6, and print the result.\n",
        "# TODO: Write your code below\n",
        "print(30/6)"
      ],
      "metadata": {
        "colab": {
          "base_uri": "https://localhost:8080/"
        },
        "id": "HpKvHDgPO5zf",
        "outputId": "c257cde8-7a4a-413c-97a4-4f28097dd5e5"
      },
      "execution_count": null,
      "outputs": [
        {
          "output_type": "stream",
          "name": "stdout",
          "text": [
            "5.0\n"
          ]
        }
      ]
    }
  ]
}