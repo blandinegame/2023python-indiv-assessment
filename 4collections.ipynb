{
  "nbformat": 4,
  "nbformat_minor": 0,
  "metadata": {
    "colab": {
      "provenance": []
    },
    "kernelspec": {
      "name": "python3",
      "display_name": "Python 3"
    },
    "language_info": {
      "name": "python"
    }
  },
  "cells": [
    {
      "cell_type": "code",
      "execution_count": null,
      "metadata": {
        "id": "sOSkzQ2mPEUO"
      },
      "outputs": [],
      "source": [
        "#4collections.py\n",
        "\n",
        "# 4.1 PYTHON Lists\n",
        "\n",
        "fruits = [\"kiwi\", \"pineapple\", \"apple\"]"
      ]
    },
    {
      "cell_type": "code",
      "source": [
        "# 4.1.1 Print the second item in the fruits list.\n",
        "# TODO: Write your code below\n",
        "print(fruits[1])"
      ],
      "metadata": {
        "colab": {
          "base_uri": "https://localhost:8080/"
        },
        "id": "KwnvbTWfPJX6",
        "outputId": "a8629715-6c4c-4d6c-f598-fd10821f0904"
      },
      "execution_count": null,
      "outputs": [
        {
          "output_type": "stream",
          "name": "stdout",
          "text": [
            "pineapple\n"
          ]
        }
      ]
    },
    {
      "cell_type": "code",
      "source": [
        "# 4.1.2 Change the value from \"kiwi\" to \"orange\", in the fruits list.\n",
        "# TODO: Write your code below\n",
        "fruits[0]=\"orange\"\n",
        "print(fruits)"
      ],
      "metadata": {
        "colab": {
          "base_uri": "https://localhost:8080/"
        },
        "id": "PicHTe8nPOMI",
        "outputId": "4dcb8e11-2880-468a-e696-766ad99780c1"
      },
      "execution_count": null,
      "outputs": [
        {
          "output_type": "stream",
          "name": "stdout",
          "text": [
            "['orange', 'pineapple', 'apple']\n"
          ]
        }
      ]
    },
    {
      "cell_type": "code",
      "source": [
        "# 4.1.3 Use the insert method to add \"lemon\" as the second item in the fruits list.\n",
        "# TODO: Write your code below\n",
        "fruits.insert(1,\"lemon\")\n",
        "print(fruits)"
      ],
      "metadata": {
        "colab": {
          "base_uri": "https://localhost:8080/"
        },
        "id": "SNg0TEdaPR_3",
        "outputId": "9c54db01-5e88-46f2-ab65-b59914eab161"
      },
      "execution_count": null,
      "outputs": [
        {
          "output_type": "stream",
          "name": "stdout",
          "text": [
            "['orange', 'lemon', 'pineapple', 'apple']\n"
          ]
        }
      ]
    },
    {
      "cell_type": "code",
      "source": [
        "# 4.1.4 Use the remove method to remove \"pineapple\" from the fruits list.\n",
        "# TODO: Write your code below\n",
        "\n",
        "fruits.remove(\"pineapple\")\n",
        "print(fruits)"
      ],
      "metadata": {
        "colab": {
          "base_uri": "https://localhost:8080/"
        },
        "id": "_GcrBoLCPVBa",
        "outputId": "57c58111-c091-4205-bfd3-64118d392f66"
      },
      "execution_count": null,
      "outputs": [
        {
          "output_type": "stream",
          "name": "stdout",
          "text": [
            "['orange', 'lemon', 'apple']\n"
          ]
        }
      ]
    },
    {
      "cell_type": "code",
      "source": [
        "# 4.1.5 Use negative indexing to print the last item in the list.\n",
        "# TODO: Write your code below\n",
        "print(fruits[-1])"
      ],
      "metadata": {
        "colab": {
          "base_uri": "https://localhost:8080/"
        },
        "id": "b8peyydvPXT9",
        "outputId": "6ada1d19-312a-4c14-93ad-c17d7ba21804"
      },
      "execution_count": null,
      "outputs": [
        {
          "output_type": "stream",
          "name": "stdout",
          "text": [
            "apple\n"
          ]
        }
      ]
    },
    {
      "cell_type": "code",
      "source": [
        "# 4.1.6 Use a range of indexes to print the third, fourth, and fifth item in the list fruits2.\n",
        "\n",
        "fruits2 = [\"apple\", \"banana\", \"cherry\", \"orange\", \"kiwi\", \"melon\", \"mango\"]\n",
        "# TODO: Write your code below\n",
        "print(fruits2[2:5])"
      ],
      "metadata": {
        "colab": {
          "base_uri": "https://localhost:8080/"
        },
        "id": "YRkOgJAePZwB",
        "outputId": "5a96d9fb-61cd-4878-83b4-cb9caaa6fc0c"
      },
      "execution_count": null,
      "outputs": [
        {
          "output_type": "stream",
          "name": "stdout",
          "text": [
            "['cherry', 'orange', 'kiwi']\n"
          ]
        }
      ]
    },
    {
      "cell_type": "code",
      "source": [
        "# 4.1.7 Use the correct syntax to print the number of items in the list fruits\n",
        "# TODO: Write your code below\n",
        "print(len(fruits2))"
      ],
      "metadata": {
        "colab": {
          "base_uri": "https://localhost:8080/"
        },
        "id": "2NLAZMXVPc-u",
        "outputId": "d446271e-b065-4bba-e75e-8f3710a93433"
      },
      "execution_count": null,
      "outputs": [
        {
          "output_type": "stream",
          "name": "stdout",
          "text": [
            "7\n"
          ]
        }
      ]
    },
    {
      "cell_type": "code",
      "source": [
        "# 4.1.8  Write a program that add the average of numbers in a list scores.\n",
        "# you are not allowed to use the sum() or len() functions.\n",
        "\n",
        "scores = [50, 55, 56, 70, 80, 60, 66]\n",
        "\n",
        "# TODO: Write your code below\n",
        "length=0\n",
        "total=0\n",
        "for x in scores:\n",
        "  total+=x\n",
        "  length+=1\n",
        "print('the sum of items is:', total)\n",
        "print('item count:', length)\n",
        "print('average of items in the scores list ', round(total/length,5))\n"
      ],
      "metadata": {
        "id": "7IrT_pBwPfgD",
        "colab": {
          "base_uri": "https://localhost:8080/"
        },
        "outputId": "5ee6265f-ac16-4392-d635-4893d8ded6b9"
      },
      "execution_count": null,
      "outputs": [
        {
          "output_type": "stream",
          "name": "stdout",
          "text": [
            "the sum of items is: 437\n",
            "item count: 7\n",
            "average of items in the scores list  62.42857\n"
          ]
        }
      ]
    },
    {
      "cell_type": "code",
      "source": [
        "# 4.1.9 Write a program that calculates the highest number in a list scores\n",
        "# you are not allowed to use the max or min functions.\n",
        "scores = [50, 55, 56, 70, 80, 60, 66]\n",
        "\n",
        "# TODO: Write your code below\n",
        "max = -100\n",
        "for x in scores:\n",
        "  if x>max:\n",
        "    max=x\n",
        "print('largest numberin score list is:', max)\n"
      ],
      "metadata": {
        "id": "ZZMQlwTEPiDM",
        "colab": {
          "base_uri": "https://localhost:8080/"
        },
        "outputId": "d6b9d149-1868-4ec0-d8ec-7471781bb8da"
      },
      "execution_count": null,
      "outputs": [
        {
          "output_type": "stream",
          "name": "stdout",
          "text": [
            "largest numberin score list is: 80\n"
          ]
        }
      ]
    },
    {
      "cell_type": "code",
      "source": [
        "# 4.1.10\n",
        "\n"
      ],
      "metadata": {
        "id": "qhecHfuKPlb3"
      },
      "execution_count": null,
      "outputs": []
    },
    {
      "cell_type": "code",
      "source": [
        "# 4.2. PYTHON Dictionaries\n",
        "\n",
        "car =\t{\n",
        "  \"brand\": \"Renault\",\n",
        "  \"model\": \"Clio\",\n",
        "  \"year\": 2018\n",
        "}\n"
      ],
      "metadata": {
        "id": "REFq0tD_Pqgs"
      },
      "execution_count": null,
      "outputs": []
    },
    {
      "cell_type": "code",
      "source": [
        "# 4.2.1 Use the get method to print the value of the \"model\" key of the car dictionary.\n",
        "# TODO: Write your code below\n",
        "print(car.get(\"model\"))\n",
        "print(car[\"model\"])"
      ],
      "metadata": {
        "colab": {
          "base_uri": "https://localhost:8080/"
        },
        "id": "YlgFGW3nPtni",
        "outputId": "239c3d4d-0ba1-4e44-8fa4-c69dce33dbc4"
      },
      "execution_count": null,
      "outputs": [
        {
          "output_type": "stream",
          "name": "stdout",
          "text": [
            "Clio\n",
            "Clio\n"
          ]
        }
      ]
    },
    {
      "cell_type": "code",
      "source": [
        "# 4.2.2 Change the \"year\" value from 2018 to 2020 in the car dictionary.\n",
        "# TODO: Write your code below\n",
        "x = car.values()\n",
        "car[\"year\"] = 2020\n",
        "print(x)"
      ],
      "metadata": {
        "colab": {
          "base_uri": "https://localhost:8080/"
        },
        "id": "UiiIPff_Pvgj",
        "outputId": "c3728ce6-d4c4-45f6-ebc1-a5cf8a31107d"
      },
      "execution_count": null,
      "outputs": [
        {
          "output_type": "stream",
          "name": "stdout",
          "text": [
            "dict_values(['Renault', 'Clio', 2020])\n"
          ]
        }
      ]
    },
    {
      "cell_type": "code",
      "source": [
        "# 4.2.3 TODO: Add the key/value pair \"color\" : \"blue\" to the car dictionary.\n",
        "# TODO: Write your code below\n",
        "x = car.values()\n",
        "car[\"color\"] = \"blue\"\n",
        "print(x)"
      ],
      "metadata": {
        "colab": {
          "base_uri": "https://localhost:8080/"
        },
        "id": "Faaz6y1SPxu0",
        "outputId": "c9ddf382-6b3e-4f3f-d47f-e9d939950cb8"
      },
      "execution_count": null,
      "outputs": [
        {
          "output_type": "stream",
          "name": "stdout",
          "text": [
            "dict_values(['Renault', 'Clio', 2020, 'blue'])\n"
          ]
        }
      ]
    },
    {
      "cell_type": "code",
      "source": [
        "# 4.2.4 Use the pop method to remove \"model\" from the car dictionary.\n",
        "# TODO: Write your code below\n",
        "car.pop(\"model\")\n",
        "print(car)"
      ],
      "metadata": {
        "colab": {
          "base_uri": "https://localhost:8080/"
        },
        "id": "NqpkfB1FPzyA",
        "outputId": "c44e0361-67ee-45ba-f3e8-adf13a9f7e36"
      },
      "execution_count": null,
      "outputs": [
        {
          "output_type": "stream",
          "name": "stdout",
          "text": [
            "{'brand': 'Renault', 'year': 2020, 'color': 'blue'}\n"
          ]
        }
      ]
    },
    {
      "cell_type": "code",
      "source": [
        "# 4.2.5 Use the clear method to empty the car dictionary.\n",
        "# TODO: Write your code below\n",
        "car.clear()\n",
        "print(car)"
      ],
      "metadata": {
        "colab": {
          "base_uri": "https://localhost:8080/"
        },
        "id": "ZnOUuHeBP2YR",
        "outputId": "9603fd1f-444c-4bd4-d338-f121de81a78a"
      },
      "execution_count": null,
      "outputs": [
        {
          "output_type": "stream",
          "name": "stdout",
          "text": [
            "{}\n"
          ]
        }
      ]
    }
  ]
}