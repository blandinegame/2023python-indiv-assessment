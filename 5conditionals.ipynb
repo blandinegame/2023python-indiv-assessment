{
  "nbformat": 4,
  "nbformat_minor": 0,
  "metadata": {
    "colab": {
      "provenance": []
    },
    "kernelspec": {
      "name": "python3",
      "display_name": "Python 3"
    },
    "language_info": {
      "name": "python"
    }
  },
  "cells": [
    {
      "cell_type": "code",
      "execution_count": 4,
      "metadata": {
        "id": "hAoPNJJ2UWd0"
      },
      "outputs": [],
      "source": [
        "# 5conditionals.py\n",
        "\n",
        "# 5.1 If ... else\n",
        "\n",
        "a = 20\n",
        "b = 40\n",
        "\n",
        "c=10\n",
        "d=40\n"
      ]
    },
    {
      "cell_type": "code",
      "source": [
        "# 5.1.1 Print \"Yes\" if a is equal to b, otherwise print \"No\".\n",
        "# TODO: Write your code below\n",
        "if a == b:\n",
        "  print(\"Yes\")\n",
        "else:\n",
        "  print(\"No\")"
      ],
      "metadata": {
        "id": "AKrInDeeUfdZ",
        "colab": {
          "base_uri": "https://localhost:8080/"
        },
        "outputId": "d6181a6f-f9a5-4d7c-d9a6-4603d3539ba4"
      },
      "execution_count": 5,
      "outputs": [
        {
          "output_type": "stream",
          "name": "stdout",
          "text": [
            "No\n"
          ]
        }
      ]
    },
    {
      "cell_type": "code",
      "source": [
        "# 5.1.2 Print \"1\" if a is equal to b, print \"2\" if a is greater than b, otherwise print \"3\".\n",
        "# TODO: Write your code below\n",
        "if a==b:\n",
        "  print(\"1\")\n",
        "if a>b:\n",
        "  print(\"2\")\n",
        "else:\n",
        "  print(\"3\")"
      ],
      "metadata": {
        "id": "-xGVpQoVUh3Y",
        "colab": {
          "base_uri": "https://localhost:8080/"
        },
        "outputId": "220561d2-dc9b-4a01-aa28-2666cb0d9036"
      },
      "execution_count": 6,
      "outputs": [
        {
          "output_type": "stream",
          "name": "stdout",
          "text": [
            "3\n"
          ]
        }
      ]
    },
    {
      "cell_type": "code",
      "source": [
        "# 5.1.3 Print \"Hello\" if a is equal to b, and c is equal to d.\n",
        "# TODO: Write your code below\n",
        "if a==b and c==d:\n",
        "  print(\"Hello\")"
      ],
      "metadata": {
        "id": "SCIfc51rUjrM"
      },
      "execution_count": 7,
      "outputs": []
    },
    {
      "cell_type": "code",
      "source": [
        "# 5.1.4 Print \"Hello\" if a is equal to b, or if c is equal to d.\n",
        "# TODO: Write your code below\n",
        "if a==b or c==d:\n",
        "  print(\"Hello\")"
      ],
      "metadata": {
        "id": "3FOPsOqcUmGO"
      },
      "execution_count": 8,
      "outputs": []
    },
    {
      "cell_type": "code",
      "source": [
        "# 5.2 Write a program that checks whether an input number is odd or even. Print whether the input number is odd or even\n",
        "# HINT:\n",
        "# even numbers can be divided by 2 with no remainder. when odd numbers are divided by 2 there is a remainder.\n",
        "# eg. 42 is even because 42/2 = 21 and has no remainder\n",
        "# eg. example, 33 is odd because 33/3 = 16.5 is not a whole number.\n",
        "# we can use the module operator (%) in python to get the remainder after a division.\n",
        "# eg. 5%2 = 1 since 5 divided by 2 has a remainder 1. So 5 is odd\n",
        "# eg. 6%2 = 0 since 6 divided by 2 has a remainder 0. So 6 is even.\n",
        "\n",
        "#number to check\n",
        "number = int(input('Enter a number'))\n",
        "\n",
        "# TODO: write your code below\n",
        "number = float()\n",
        "if number % 2 == 0:\n",
        "  print('even')\n",
        "else:\n",
        "  print('odd')"
      ],
      "metadata": {
        "id": "p_fgK1u6UpRC",
        "colab": {
          "base_uri": "https://localhost:8080/"
        },
        "outputId": "982294bf-969b-4ace-df45-ac207d1ff793"
      },
      "execution_count": 9,
      "outputs": [
        {
          "output_type": "stream",
          "name": "stdout",
          "text": [
            "Enter a number4\n",
            "even\n"
          ]
        }
      ]
    }
  ]
}