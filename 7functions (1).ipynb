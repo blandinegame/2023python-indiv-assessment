{
  "nbformat": 4,
  "nbformat_minor": 0,
  "metadata": {
    "colab": {
      "provenance": []
    },
    "kernelspec": {
      "name": "python3",
      "display_name": "Python 3"
    },
    "language_info": {
      "name": "python"
    }
  },
  "cells": [
    {
      "cell_type": "code",
      "execution_count": null,
      "metadata": {
        "id": "i98wuh7oU96l"
      },
      "outputs": [],
      "source": [
        "# 7.1 Functions\n",
        "\n",
        "# 7.1.1 Create a function named function1 that prints this string \"Hello World\"\n",
        "# TODO: Write your code below\n",
        "def function1():\n",
        "  print(\"Hello World\")\n"
      ]
    },
    {
      "cell_type": "code",
      "source": [
        "# 7.1.2 Execute the functon function1\n",
        "# TODO: Write your code below\n",
        "function1()"
      ],
      "metadata": {
        "id": "E9pXLTOiVFP2",
        "colab": {
          "base_uri": "https://localhost:8080/"
        },
        "outputId": "18fddf1d-c043-49cf-f59b-4088215a7b97"
      },
      "execution_count": null,
      "outputs": [
        {
          "output_type": "stream",
          "name": "stdout",
          "text": [
            "Hello World\n"
          ]
        }
      ]
    },
    {
      "cell_type": "code",
      "source": [
        "# 7.1.3 Create a function named function2 that takes in one integer parameter number1. The function adds 5 to the input number1, and prints the result\n",
        "# TODO: Write your code below\n",
        "def function2(number1):\n",
        "  result = number1+5\n",
        "  print(result)\n",
        "function2(5)\n"
      ],
      "metadata": {
        "id": "ZUSx23I8VHin",
        "colab": {
          "base_uri": "https://localhost:8080/"
        },
        "outputId": "73e30699-f65c-4acb-fb11-3744a3db545a"
      },
      "execution_count": null,
      "outputs": [
        {
          "output_type": "stream",
          "name": "stdout",
          "text": [
            "10\n"
          ]
        }
      ]
    },
    {
      "cell_type": "code",
      "source": [
        "# 7.1.4 Create a function named compare_numbers() with two arguments. If the first argument is greater than the second, print \"first number is greater\".\n",
        "# If the second number is greater than the first, print \"first number is smaller\". Is the numbers are equal, print \"equal numbers\"\n",
        "# TODO: Write your code below\n",
        "def compare_numbers(number2, number3):\n",
        "  if number2 > number3:\n",
        "    print(\"first number is greater\")\n",
        "  if number2<number3:\n",
        "    print(\"first number is smaller\")\n",
        "  else:\n",
        "    print(\"equal numbers\")\n",
        "\n",
        "compare_numbers(3, 4)"
      ],
      "metadata": {
        "id": "-t8KNVQzVJ05",
        "colab": {
          "base_uri": "https://localhost:8080/"
        },
        "outputId": "c670811f-fbe6-4317-c771-88a591913b51"
      },
      "execution_count": null,
      "outputs": [
        {
          "output_type": "stream",
          "name": "stdout",
          "text": [
            "first number is smaller\n"
          ]
        }
      ]
    },
    {
      "cell_type": "code",
      "source": [
        "# 7.2 Create a lambda function that takes one parameter (a) and returns it.\n",
        "# TODO: Write your code below\n",
        "lambda_function = lambda a: a\n",
        "print(lambda_function(5))"
      ],
      "metadata": {
        "id": "X1EOhNwqVN7Z",
        "colab": {
          "base_uri": "https://localhost:8080/"
        },
        "outputId": "f8a70fd7-34b3-441d-8400-e1e1380847e9"
      },
      "execution_count": null,
      "outputs": [
        {
          "output_type": "stream",
          "name": "stdout",
          "text": [
            "5\n"
          ]
        }
      ]
    },
    {
      "cell_type": "code",
      "source": [
        "### 7.3 Python built-in functions : https://www.w3schools.com/python/python_ref_functions.asp\n",
        "\n",
        "nums = [11,33,14,2,58,65,34]\n"
      ],
      "metadata": {
        "id": "qA2sFv6FVQ_x"
      },
      "execution_count": null,
      "outputs": []
    },
    {
      "cell_type": "code",
      "source": [
        "# 7.3.1 Using Python's built in sum() function, print the sum of the numbers in the list nums\n",
        "# TODO: Write your code below\n",
        "sum(nums)"
      ],
      "metadata": {
        "id": "IeG-jyWsVU11",
        "colab": {
          "base_uri": "https://localhost:8080/"
        },
        "outputId": "28ac89b8-1558-4088-d68b-77075a8e64d8"
      },
      "execution_count": null,
      "outputs": [
        {
          "output_type": "execute_result",
          "data": {
            "text/plain": [
              "217"
            ]
          },
          "metadata": {},
          "execution_count": 13
        }
      ]
    },
    {
      "cell_type": "code",
      "source": [
        "# 7.3.2 Using Python's built in min() function, print the minimum of the numbers in the list nums\n",
        "# TODO: Write your code below\n",
        "min(nums)"
      ],
      "metadata": {
        "id": "cHUjUC_qVaGA",
        "colab": {
          "base_uri": "https://localhost:8080/"
        },
        "outputId": "b6af6f6b-55f2-458c-9959-65b809664a05"
      },
      "execution_count": null,
      "outputs": [
        {
          "output_type": "execute_result",
          "data": {
            "text/plain": [
              "2"
            ]
          },
          "metadata": {},
          "execution_count": 14
        }
      ]
    },
    {
      "cell_type": "code",
      "source": [
        "# 7.3.3 Using Python's built in abs() function, print the absolute value of -6.\n",
        "# TODO: Write your code below\n",
        "abs(-6)"
      ],
      "metadata": {
        "id": "LdoL9hQeVgV-",
        "colab": {
          "base_uri": "https://localhost:8080/"
        },
        "outputId": "e531078c-55b3-41c3-fbb2-79b2c8a77f26"
      },
      "execution_count": null,
      "outputs": [
        {
          "output_type": "execute_result",
          "data": {
            "text/plain": [
              "6"
            ]
          },
          "metadata": {},
          "execution_count": 15
        }
      ]
    },
    {
      "cell_type": "code",
      "source": [
        "# 7.3.4 Using Python's built in round() function, round the number 4.67888 to two decomal places.\n",
        "# TODO: Write your code below\n",
        "round(4.67888, 2)"
      ],
      "metadata": {
        "id": "yrMju104ViwQ",
        "colab": {
          "base_uri": "https://localhost:8080/"
        },
        "outputId": "f2bdc6e1-029a-4f7f-f509-03049d9e479d"
      },
      "execution_count": null,
      "outputs": [
        {
          "output_type": "execute_result",
          "data": {
            "text/plain": [
              "4.68"
            ]
          },
          "metadata": {},
          "execution_count": 16
        }
      ]
    },
    {
      "cell_type": "code",
      "source": [
        "# 7.4 Python Modules\n",
        "# HINT: https://www.w3schools.com/python/python_modules.asp\n",
        "# HINT: https://realpython.com/python-modules-packages/\n",
        "# HINT: https://docs.python.org/3/tutorial/modules.html"
      ],
      "metadata": {
        "id": "YVAFg3qwVn5M"
      },
      "execution_count": null,
      "outputs": []
    },
    {
      "cell_type": "code",
      "source": [
        "# 7.4.1 Create a python module mod.\n",
        "# In mod.py, create a function psum(number1, number2) that takes two arguments and prints the sum of them. Assume the input arguments to be numbers.\n",
        "# In mod.py, create a function pmultiply(number1, number2) that takes two arguments and prints the product of them. Assume the input arguments to be numbers.\n"
      ],
      "metadata": {
        "id": "Im_g-NAUVtYZ",
        "colab": {
          "base_uri": "https://localhost:8080/"
        },
        "outputId": "4148322f-02f0-43f8-89b6-f508e785ce42"
      },
      "execution_count": 1,
      "outputs": [
        {
          "output_type": "stream",
          "name": "stdout",
          "text": [
            "sum of numbers: 3\n"
          ]
        }
      ]
    },
    {
      "cell_type": "code",
      "source": [
        "# 7.4.2 Create python file main.py and import the module mod.\n",
        "# In main.py run the psum() and pmultiply() functions from the module mod using any two numbers.\n",
        "\n",
        "import mod as pd\n",
        "\n",
        "pd.psum(1,2)\n",
        "pd.pmultiply(1,2)\n"
      ],
      "metadata": {
        "id": "TjUYTbZbV4-Y",
        "colab": {
          "base_uri": "https://localhost:8080/"
        },
        "outputId": "29fb1951-75c1-4a0c-e4e9-8c17b5b9e44e"
      },
      "execution_count": 2,
      "outputs": [
        {
          "output_type": "stream",
          "name": "stdout",
          "text": [
            "sum of numbers: 3\n",
            "product of numbers 2\n"
          ]
        }
      ]
    },
    {
      "cell_type": "code",
      "source": [
        "# 7.4.3 In main.py, also import Python's built in module platform. Then list the functions and variables in the platform module using the dir() function.\n",
        "import platform\n",
        "print(dir(platform))"
      ],
      "metadata": {
        "id": "MKdlmRTCV7IG",
        "colab": {
          "base_uri": "https://localhost:8080/"
        },
        "outputId": "cae89737-0c68-4a56-9284-544c39b82520"
      },
      "execution_count": 3,
      "outputs": [
        {
          "output_type": "stream",
          "name": "stdout",
          "text": [
            "['_Processor', '_WIN32_CLIENT_RELEASES', '_WIN32_SERVER_RELEASES', '__builtins__', '__cached__', '__copyright__', '__doc__', '__file__', '__loader__', '__name__', '__package__', '__spec__', '__version__', '_comparable_version', '_component_re', '_default_architecture', '_follow_symlinks', '_get_machine_win32', '_ironpython26_sys_version_parser', '_ironpython_sys_version_parser', '_java_getprop', '_libc_search', '_mac_ver_xml', '_node', '_norm_version', '_os_release_cache', '_os_release_candidates', '_os_release_line', '_os_release_unescape', '_parse_os_release', '_platform', '_platform_cache', '_pypy_sys_version_parser', '_sys_version', '_sys_version_cache', '_sys_version_parser', '_syscmd_file', '_syscmd_ver', '_uname_cache', '_unknown_as_blank', '_ver_output', '_ver_stages', 'architecture', 'collections', 'freedesktop_os_release', 'functools', 'itertools', 'java_ver', 'libc_ver', 'mac_ver', 'machine', 'node', 'os', 'platform', 'processor', 'python_branch', 'python_build', 'python_compiler', 'python_implementation', 'python_revision', 'python_version', 'python_version_tuple', 're', 'release', 'subprocess', 'sys', 'system', 'system_alias', 'uname', 'uname_result', 'version', 'win32_edition', 'win32_is_iot', 'win32_ver']\n"
          ]
        }
      ]
    },
    {
      "cell_type": "code",
      "source": [
        "print(dir(pd))"
      ],
      "metadata": {
        "colab": {
          "base_uri": "https://localhost:8080/"
        },
        "id": "ItZimQnqj6LH",
        "outputId": "44d148e6-c05b-40aa-eaa5-00cb88f5c835"
      },
      "execution_count": 5,
      "outputs": [
        {
          "output_type": "stream",
          "name": "stdout",
          "text": [
            "['__builtins__', '__cached__', '__doc__', '__file__', '__loader__', '__name__', '__package__', '__spec__', 'pmultiply', 'psum']\n"
          ]
        }
      ]
    }
  ]
}